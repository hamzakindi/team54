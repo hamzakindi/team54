{
 "cells": [
  {
   "cell_type": "markdown",
   "metadata": {},
   "source": [
    "# Exploratory Data Analysis\n",
    "\n",
    "This notebook is used for exploratory data analysis (EDA) of the dataset. It includes code for generating plots and summarizing key statistics."
   ]
  },
  {
   "cell_type": "code",
   "execution_count": null,
   "metadata": {},
   "outputs": [
    {
     "ename": "",
     "evalue": "",
     "output_type": "error",
     "traceback": [
      "\u001b[1;31mRunning cells with 'base (Python 3.8.3)' requires the ipykernel package.\n",
      "\u001b[1;31mRun the following command to install 'ipykernel' into the Python environment. \n",
      "\u001b[1;31mCommand: 'conda install -n base ipykernel --update-deps --force-reinstall'"
     ]
    }
   ],
   "source": [
    "import pandas as pd\n",
    "import matplotlib.pyplot as plt\n",
    "import seaborn as sns\n",
    "import os\n",
    "from pathlib import Path\n",
    "\n",
    "# Define the path to CSV files\n",
    "csv_path = Path(r\"C:\\RnD\\MedHack\\archive\\MedHack AI Hospital\\csv\")\n",
    "\n",
    "# List all CSV files in the directory\n",
    "csv_files = list(csv_path.glob('*.csv'))\n",
    "print(\"Available CSV files:\")\n",
    "for file in csv_files:\n",
    "    print(f\"- {file.name}\")\n",
    "\n",
    "# Load all CSV files into a dictionary\n",
    "data_dict = {}\n",
    "for file in csv_files:\n",
    "    try:\n",
    "        data_dict[file.stem] = pd.read_csv(file)\n",
    "        print(f\"Successfully loaded: {file.name}\")\n",
    "    except Exception as e:\n",
    "        print(f\"Error loading {file.name}: {str(e)}\")\n",
    "\n",
    "# Display the first few rows of each dataset\n",
    "for name, df in data_dict.items():\n",
    "    print(f\"\\nFirst few rows of {name}:\")\n",
    "    display(df.head())"
   ]
  },
  {
   "cell_type": "code",
   "execution_count": null,
   "metadata": {},
   "outputs": [],
   "source": [
    "# Summary statistics\n",
    "data.describe()"
   ]
  },
  {
   "cell_type": "code",
   "execution_count": null,
   "metadata": {},
   "outputs": [],
   "source": [
    "# Visualizing missing values\n",
    "plt.figure(figsize=(10, 6))\n",
    "sns.heatmap(data.isnull(), cbar=False, cmap='viridis')\n",
    "plt.title('Missing Values Heatmap')\n",
    "plt.show()"
   ]
  },
  {
   "cell_type": "code",
   "execution_count": null,
   "metadata": {},
   "outputs": [],
   "source": [
    "# Example of a plot\n",
    "plt.figure(figsize=(12, 6))\n",
    "sns.countplot(x='column_name', data=data)\n",
    "plt.title('Count of Column Name')\n",
    "plt.xticks(rotation=45)\n",
    "plt.show()"
   ]
  }
 ],
 "metadata": {
  "kernelspec": {
   "display_name": "base",
   "language": "python",
   "name": "python3"
  },
  "language_info": {
   "codemirror_mode": {
    "name": "ipython",
    "version": 3
   },
   "file_extension": ".py",
   "mimetype": "text/x-python",
   "name": "python",
   "nbconvert_exporter": "python",
   "pygments_lexer": "ipython3",
   "version": "3.8.3"
  }
 },
 "nbformat": 4,
 "nbformat_minor": 4
}
