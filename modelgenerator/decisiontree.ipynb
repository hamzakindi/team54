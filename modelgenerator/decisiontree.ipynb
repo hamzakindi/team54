{
 "cells": [
  {
   "cell_type": "code",
   "execution_count": 1,
   "metadata": {},
   "outputs": [],
   "source": [
    "import os\n",
    "\n",
    "csv_path = \"../dataset/diabetes.csv\"\n",
    "absolute_path = os.path.abspath(csv_path)\n",
    "print(f\"Absolute path: {absolute_path}\")"
   ]
  },
  {
   "cell_type": "code",
   "execution_count": 2,
   "metadata": {},
   "outputs": [],
   "source": [
    "# https://www.youtube.com/watch?v=7eh4d6sabA0\n",
    "\n",
    "import pandas as pd\n",
    "df = pd.read_csv(r'C:\\RnD\\MedHack\\team54\\dataset\\diabetes.csv')\n",
    "df.describe()\n"
   ]
  },
  {
   "cell_type": "code",
   "execution_count": 3,
   "metadata": {},
   "outputs": [],
   "source": [
    "from sklearn.tree import DecisionTreeClassifier\n",
    "from sklearn.model_selection import train_test_split\n",
    "from sklearn.metrics import accuracy_score\n",
    "import joblib  # Changed this line\n",
    "\n",
    "X = df.drop(columns=['Outcome'])\n",
    "y = df['Outcome']\n",
    "\n",
    "X_train, X_test, y_train, y_test = train_test_split(X, y, test_size=0.2)\n",
    "\n",
    "model = DecisionTreeClassifier()\n",
    "model.fit(X_train, y_train)\n",
    "\n",
    "predictions = model.predict(X_test)\n",
    "\n",
    "score = accuracy_score(y_test, predictions)\n",
    "\n",
    "print(score)\n",
    "\n",
    "joblib.dump(model, r'C:\\RnD\\MedHack\\team54\\dataset\\diabetes-prediction-model.joblib')\n"
   ]
  },
  {
   "cell_type": "markdown",
   "metadata": {},
   "source": [
    "# Checking the model"
   ]
  },
  {
   "cell_type": "code",
   "execution_count": 4,
   "metadata": {},
   "outputs": [],
   "source": [
    "# load the model\n",
    "model = joblib.load(r'C:\\RnD\\MedHack\\team54\\dataset\\diabetes-prediction-model.joblib')\n",
    "\n",
    "# Define the feature names matching your training data\n",
    "feature_names = ['Pregnancies', 'Glucose', 'BloodPressure', 'SkinThickness', \n",
    "                 'Insulin', 'BMI', 'DiabetesPedigreeFunction', 'Age']\n",
    "\n",
    "# Create a DataFrame with your input data\n",
    "X_new = pd.DataFrame([[1,103,30,38,83,43.3,0.183,33]], \n",
    "                    columns=feature_names)\n",
    "\n",
    "# Make the prediction\n",
    "print(model.predict(X_new))\n",
    "print(model.predict_proba(X_new)[0][0])\n",
    "\n",
    "X_new = pd.DataFrame([[7,196,90,0,0,39.8,0.451,41]], \n",
    "                    columns=feature_names)\n",
    "\n",
    "# Make the prediction\n",
    "print(model.predict(X_new))\n",
    "print(model.predict_proba(X_new)[0][1])"
   ]
  }
 ],
 "metadata": {
  "kernelspec": {
   "display_name": "Python 3 (ipykernel)",
   "language": "python",
   "name": "python3"
  }
 },
 "nbformat": 4,
 "nbformat_minor": 2
}
